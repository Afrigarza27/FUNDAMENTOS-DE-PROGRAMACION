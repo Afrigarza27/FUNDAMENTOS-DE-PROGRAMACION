{
  "nbformat": 4,
  "nbformat_minor": 0,
  "metadata": {
    "colab": {
      "provenance": []
    },
    "kernelspec": {
      "name": "python3",
      "display_name": "Python 3"
    },
    "language_info": {
      "name": "python"
    }
  },
  "cells": [
    {
      "cell_type": "code",
      "execution_count": null,
      "metadata": {
        "id": "L3kl8glwLGWd"
      },
      "outputs": [],
      "source": [
        "# Declaracion de variables \n",
        "\n",
        "var_ent_float_lado_a = 0 \n",
        "var_ent_float_lado_b = 0\n",
        "var_ent_float_lado_c = 0\n",
        "var_ent_float_semiP = 0\n",
        "var_ent_float_area = 0 # Variable que define el area de un triangulo\n"
      ]
    },
    {
      "cell_type": "code",
      "source": [
        "# Captura de datos\n",
        "\n",
        "var_ent_float_lado_a = float(input(\"ingresar lado a: \"))\n",
        "var_ent_float_lado_b = float(input(\"ingresar lado b: \"))\n",
        "var_ent_float_lado_c = float(input(\"ingresar lado c: \"))"
      ],
      "metadata": {
        "colab": {
          "base_uri": "https://localhost:8080/"
        },
        "id": "A5Uy7dW7PHNr",
        "outputId": "219dd4c4-6e72-4c9f-ef15-d9dea9728f64"
      },
      "execution_count": null,
      "outputs": [
        {
          "name": "stdout",
          "output_type": "stream",
          "text": [
            "ingresar lado a: 8\n",
            "ingresar lado b: 6\n",
            "ingresar lado c: 4\n"
          ]
        }
      ]
    },
    {
      "cell_type": "code",
      "source": [
        "# Proceso calculo definitivo\n",
        "import math \n",
        "var_ent_float_semiP = (var_ent_float_lado_a+var_ent_float_lado_b+var_ent_float_lado_c)/2 "
      ],
      "metadata": {
        "id": "AWH_D4_JS8Sz"
      },
      "execution_count": null,
      "outputs": []
    },
    {
      "cell_type": "code",
      "source": [
        "# Proceso calculo definitivo\n",
        "var_ent_float_area = math.sqrt(var_ent_float_semiP*(var_ent_float_semiP-var_ent_float_lado_a)*(var_ent_float_semiP-var_ent_float_lado_b)*(var_ent_float_semiP-var_ent_float_lado_c))"
      ],
      "metadata": {
        "id": "tlpjElDwUvBU"
      },
      "execution_count": null,
      "outputs": []
    },
    {
      "cell_type": "code",
      "source": [
        "# Salida \n",
        "\n",
        "print(\"Area de un triangulo \", var_ent_float_area )\n"
      ],
      "metadata": {
        "colab": {
          "base_uri": "https://localhost:8080/"
        },
        "id": "PDtLh67QbMVo",
        "outputId": "947b1844-9977-4bb1-d7d1-5a2f134787b8"
      },
      "execution_count": null,
      "outputs": [
        {
          "output_type": "stream",
          "name": "stdout",
          "text": [
            "Area de un triangulo  11.61895003862225\n"
          ]
        }
      ]
    }
  ]
}