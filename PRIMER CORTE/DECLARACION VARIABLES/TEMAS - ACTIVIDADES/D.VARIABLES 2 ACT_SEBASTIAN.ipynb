{
  "nbformat": 4,
  "nbformat_minor": 0,
  "metadata": {
    "colab": {
      "provenance": []
    },
    "kernelspec": {
      "name": "python3",
      "display_name": "Python 3"
    },
    "language_info": {
      "name": "python"
    }
  },
  "cells": [
    {
      "cell_type": "markdown",
      "source": [
        "PROBLEMA: \n",
        "AUTOR: \n",
        "FECHA: 30_08_2022\n",
        "VERSION: 1.O"
      ],
      "metadata": {
        "id": "_7q3sQGJUuWT"
      }
    },
    {
      "cell_type": "code",
      "source": [
        "Descripcion del enunciado: para un estudiante leer su nombre, sus 3 notas de los parciales y calcular su nota definitiva y informa si aprobo o reprobo. La nota definitiva se clacula por promedio \n",
        "Autor: sebastian \n",
        "Fecha: 31_08_22\n",
        "Version: 1.0"
      ],
      "metadata": {
        "id": "HIesQk7hbZgC"
      },
      "execution_count": null,
      "outputs": []
    },
    {
      "cell_type": "code",
      "source": [
        "#  Declaración de variables\n",
        "var_ent_cad_nombreEstudiante = \"\"\n",
        "var_ent_float_nota_PP = 0.0\n",
        "var_ent_float_nota_SP = 0.0\n",
        "var_ent_float_nota_TP = 0.0\n",
        "var_proSal_float_notaDef = 0.0 #  Variable que almacena la nota definitiva\n",
        "var_proSal_cad_concepto = \"\""
      ],
      "metadata": {
        "id": "PrzTnXBiSzrk"
      },
      "execution_count": null,
      "outputs": []
    },
    {
      "cell_type": "code",
      "source": [
        "#  Captura de datos\n",
        "var_ent_cad_nombreEstudiante = input(\"Nombre Estudiante : \")\n",
        "var_ent_float_nota_PP = float(input(\"Primer Parcial  :\"))\n",
        "var_ent_float_nota_SP = float(input(\"Segundo Parcial : \"))\n",
        "var_ent_float_nota_TP = float(input(\"Tercer Parcial : \"))"
      ],
      "metadata": {
        "colab": {
          "base_uri": "https://localhost:8080/"
        },
        "id": "PPbIRXQaTBd9",
        "outputId": "8b8767ce-6b2d-484e-f1b0-e020690c2a46"
      },
      "execution_count": null,
      "outputs": [
        {
          "name": "stdout",
          "output_type": "stream",
          "text": [
            "Nombre Estudiante : Sebastian Garzon \n",
            "Primer Parcial  :4.0\n",
            "Segundo Parcial : 3.5\n",
            "Tercer Parcial : 4.0\n"
          ]
        }
      ]
    }
  ]
}