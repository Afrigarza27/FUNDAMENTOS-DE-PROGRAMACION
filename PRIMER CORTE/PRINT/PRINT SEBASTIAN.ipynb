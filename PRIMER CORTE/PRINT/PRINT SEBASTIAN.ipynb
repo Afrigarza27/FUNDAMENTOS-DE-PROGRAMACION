{
  "nbformat": 4,
  "nbformat_minor": 0,
  "metadata": {
    "colab": {
      "provenance": []
    },
    "kernelspec": {
      "name": "python3",
      "display_name": "Python 3"
    },
    "language_info": {
      "name": "python"
    }
  },
  "cells": [
    {
      "cell_type": "code",
      "execution_count": null,
      "metadata": {
        "colab": {
          "base_uri": "https://localhost:8080/"
        },
        "id": "HdESMeV5SWWt",
        "outputId": "67f6e310-4259-4080-ace9-fcb8479e05e2"
      },
      "outputs": [
        {
          "output_type": "stream",
          "name": "stdout",
          "text": [
            "hola mundo:\n"
          ]
        }
      ],
      "source": [
        "print(\"hola mundo:\")"
      ]
    }
  ]
}