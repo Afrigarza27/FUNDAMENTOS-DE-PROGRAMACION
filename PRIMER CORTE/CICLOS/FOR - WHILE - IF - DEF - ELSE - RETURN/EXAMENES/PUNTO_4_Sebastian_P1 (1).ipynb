{
  "nbformat": 4,
  "nbformat_minor": 0,
  "metadata": {
    "colab": {
      "provenance": []
    },
    "kernelspec": {
      "name": "python3",
      "display_name": "Python 3"
    },
    "language_info": {
      "name": "python"
    }
  },
  "cells": [
    {
      "cell_type": "code",
      "execution_count": null,
      "metadata": {
        "id": "8YvH3-JMLxZE"
      },
      "outputs": [],
      "source": [
        "terminar=\"\"\n",
        "cant_trabajadores=0\n",
        "cant_horas=0\n",
        "cant_horas_extra=0\n",
        "pago_horas=0\n",
        "pago_horas_extra=0\n",
        "pago_total_extra=0\n",
        "masculino=0\n",
        "femenino=0\n",
        "seccion=0\n",
        "sec_1=0\n",
        "sec_2=0\n",
        "sec_3=0"
      ]
    },
    {
      "cell_type": "code",
      "source": [
        "#funcion definida para establecer la impresion de los datos solicitados \n",
        "def desprendible_82202114100_82202114054_82202114635():\n",
        "    print(\"****************\")#espaciador\n",
        "    print(\"nombre: \", nombre)\n",
        "    print(\"seccion: \", seccion)\n",
        "    print(\"horas: \", horas)\n",
        "    print(\"tarifa: \", tarifa)\n",
        "    print(\"****************\")\n",
        "    print(\"el total de trabajores es de: \", cant_trabajadores)\n",
        "    print(\"horas totales: \", cant_horas)\n",
        "    print(\"horas extra totales: \", cant_horas_extra)\n",
        "    print(\"total pagado\", pago_horas)\n",
        "    print(\"total pagado por horas extra: \", pago_horas_extra)\n",
        "    print(\"total pagado con horas extra: \", pago_total_extra)\n",
        "    print(\"****************\")\n",
        "    print(\"el numero total de hombres es: \", masculino)\n",
        "    print(\"el numero total de mujeres es: \", femenino)\n",
        "    print(\"****************\")"
      ],
      "metadata": {
        "id": "NHmvV7wTL5OA"
      },
      "execution_count": null,
      "outputs": []
    },
    {
      "cell_type": "code",
      "source": [
        "#funcion definida para para calcular el impuesto y retencion sobre el sueldo mensual    \n",
        "def imp_retencion_82202114100_82202114054_82202114635():\n",
        "    imp_salud=tarifa_total*0.125\n",
        "    imp_ICBF=tarifa_total*0.004\n",
        "    tarifa_imp=tarifa_total-imp_salud-imp_ICBF\n",
        "    \n",
        "    if tarifa_imp<2000000:\n",
        "        retencion=tarifa_imp\n",
        "        print(\"****************\")\n",
        "        print(\"pago total: \", retencion)\n",
        "        desprendible_82202114100_82202114054_82202114635()\n",
        "    \n",
        "    else:\n",
        "        \n",
        "        if 2000000<=tarifa_imp and tarifa_imp<=3000000:\n",
        "            retencion=tarifa_imp/1.005\n",
        "            print(\"****************\")\n",
        "            print(\"pago total: \", retencion)\n",
        "            desprendible_82202114100_82202114054_82202114635()\n",
        "        \n",
        "        else:\n",
        "        \n",
        "            if 3000000<tarifa_imp and tarifa_imp<=4000000:\n",
        "                retencion=tarifa_imp/1.007\n",
        "                print(\"****************\")\n",
        "                print(\"pago total: \", retencion)\n",
        "                desprendible_82202114100_82202114054_82202114635()\n",
        "            \n",
        "            else:\n",
        "        \n",
        "                if 4000000<tarifa_imp and tarifa_imp<5000000:\n",
        "                    retencion=tarifa_imp/1.009\n",
        "                    print(\"****************\")\n",
        "                    print(\"pago total: \", retencion)\n",
        "                    desprendible_82202114100_82202114054_82202114635()\n",
        "                \n",
        "                else:\n",
        "    \n",
        "                    if 500000<=tarifa_imp:\n",
        "                        retencion=tarifa_imp/1.11\n",
        "                        print(\"****************\")\n",
        "                        print(\"pago total: \", retencion)\n",
        "                        desprendible_82202114100_82202114054_82202114635()"
      ],
      "metadata": {
        "id": "bKJ5gO9PMAnn"
      },
      "execution_count": null,
      "outputs": []
    },
    {
      "cell_type": "code",
      "source": [
        "#Inicio del ciclo\n",
        "while 1:\n",
        "    \n",
        "    #variables ingresadas por teclado\n",
        "    nombre=str(input(\"ingrese el nombre del trabajador: \"))\n",
        "    horas=float(input(\"ingrese las horas trabajadas: \"))\n",
        "    tarifa=float(input(\"ingrese la tarifa por hora: \"))\n",
        "    \n",
        "    \n",
        "        \n",
        "    #proceso para calcular la cantidad total de trabajadores por genero\n",
        "    genero=int(input(\"seleccione un genero: hombre= 1, mujer= 2 : \"))\n",
        "    if genero == 1:\n",
        "        masculino=masculino+1\n",
        "        \n",
        "    if genero ==2:\n",
        "        femenino=femenino+1\n",
        "    \n",
        "    \n",
        "    #procesos para calcular la cantidad total de: trabajadores, horas, horas extra, pagos, pagos horas extra\n",
        "    cant_trabajadores=cant_trabajadores+1\n",
        "    cant_horas=cant_horas+horas\n",
        "    pago=tarifa*horas\n",
        "    pago_horas=pago_horas+pago\n",
        "    pago_horas_extra=(horas-40)*(1.8*tarifa)\n",
        "    pago_total_extra=pago_total_extra+(pago+pago_horas_extra)\n",
        "    \n",
        "    \n",
        "    \n",
        "    #condicion que verifica si no se deben pagar horas extra\n",
        "    if horas<=35:\n",
        "        tarifa_total=horas*tarifa\n",
        "        imp_retencion_82202114100_82202114054_82202114635()\n",
        "\n",
        "\n",
        "    \n",
        "    #condicion que verifica si se deben pagar horas extra       \n",
        "    if horas>40:\n",
        "        tarifa_total=(horas*tarifa)+(horas-40)*(1.8*tarifa) \n",
        "        horas_extra=horas-40\n",
        "        cant_horas_extra=cant_horas_extra+horas_extra\n",
        "        imp_retencion_82202114100_82202114054_82202114635()\n",
        "        \n",
        "    \n",
        "   #variable que se usa para terminar el ciclo\n",
        "    terminar=str(input(\"si desea acabar escriba (salir), de lo contrario escriba (continuar): \"))\n",
        "    \n",
        "    if terminar == \"salir\":\n",
        "        break"
      ],
      "metadata": {
        "id": "O5zr51ZaMIqk",
        "colab": {
          "base_uri": "https://localhost:8080/",
          "height": 867
        },
        "outputId": "4d1ca2c6-8e4c-447a-fd1b-efff30ae74e3"
      },
      "execution_count": null,
      "outputs": [
        {
          "name": "stdout",
          "output_type": "stream",
          "text": [
            "ingrese el nombre del trabajador: SEB\n",
            "ingrese las horas trabajadas: 40\n",
            "ingrese la tarifa por hora: 1.8\n",
            "seleccione un genero: hombre= 1, mujer= 2 : 1\n",
            "si desea acabar escriba (salir), de lo contrario escriba (continuar): CONTINUAR\n",
            "ingrese el nombre del trabajador: SEBAS\n",
            "ingrese las horas trabajadas: 20\n",
            "ingrese la tarifa por hora: 1.8\n",
            "seleccione un genero: hombre= 1, mujer= 2 : 1\n",
            "****************\n",
            "pago total:  31.356\n",
            "****************\n",
            "nombre:  SEBAS\n",
            "seccion:  0\n",
            "horas:  20.0\n",
            "tarifa:  1.8\n",
            "****************\n",
            "el total de trabajores es de:  2\n",
            "horas totales:  60.0\n",
            "horas extra totales:  0\n",
            "total pagado 108.0\n",
            "total pagado por horas extra:  -64.80000000000001\n",
            "total pagado con horas extra:  43.19999999999999\n",
            "****************\n",
            "el numero total de hombres es:  2\n",
            "el numero total de mujeres es:  0\n",
            "****************\n",
            "si desea acabar escriba (salir), de lo contrario escriba (continuar): SALIR\n"
          ]
        },
        {
          "output_type": "error",
          "ename": "KeyboardInterrupt",
          "evalue": "ignored",
          "traceback": [
            "\u001b[0;31m---------------------------------------------------------------------------\u001b[0m",
            "\u001b[0;31mKeyboardInterrupt\u001b[0m                         Traceback (most recent call last)",
            "\u001b[0;32m<ipython-input-22-110ab98ef0d9>\u001b[0m in \u001b[0;36m<module>\u001b[0;34m\u001b[0m\n\u001b[1;32m      3\u001b[0m \u001b[0;34m\u001b[0m\u001b[0m\n\u001b[1;32m      4\u001b[0m     \u001b[0;31m#variables ingresadas por teclado\u001b[0m\u001b[0;34m\u001b[0m\u001b[0;34m\u001b[0m\u001b[0;34m\u001b[0m\u001b[0m\n\u001b[0;32m----> 5\u001b[0;31m     \u001b[0mnombre\u001b[0m\u001b[0;34m=\u001b[0m\u001b[0mstr\u001b[0m\u001b[0;34m(\u001b[0m\u001b[0minput\u001b[0m\u001b[0;34m(\u001b[0m\u001b[0;34m\"ingrese el nombre del trabajador: \"\u001b[0m\u001b[0;34m)\u001b[0m\u001b[0;34m)\u001b[0m\u001b[0;34m\u001b[0m\u001b[0;34m\u001b[0m\u001b[0m\n\u001b[0m\u001b[1;32m      6\u001b[0m     \u001b[0mhoras\u001b[0m\u001b[0;34m=\u001b[0m\u001b[0mfloat\u001b[0m\u001b[0;34m(\u001b[0m\u001b[0minput\u001b[0m\u001b[0;34m(\u001b[0m\u001b[0;34m\"ingrese las horas trabajadas: \"\u001b[0m\u001b[0;34m)\u001b[0m\u001b[0;34m)\u001b[0m\u001b[0;34m\u001b[0m\u001b[0;34m\u001b[0m\u001b[0m\n\u001b[1;32m      7\u001b[0m     \u001b[0mtarifa\u001b[0m\u001b[0;34m=\u001b[0m\u001b[0mfloat\u001b[0m\u001b[0;34m(\u001b[0m\u001b[0minput\u001b[0m\u001b[0;34m(\u001b[0m\u001b[0;34m\"ingrese la tarifa por hora: \"\u001b[0m\u001b[0;34m)\u001b[0m\u001b[0;34m)\u001b[0m\u001b[0;34m\u001b[0m\u001b[0;34m\u001b[0m\u001b[0m\n",
            "\u001b[0;32m/usr/local/lib/python3.7/dist-packages/ipykernel/kernelbase.py\u001b[0m in \u001b[0;36mraw_input\u001b[0;34m(self, prompt)\u001b[0m\n\u001b[1;32m    861\u001b[0m             \u001b[0mself\u001b[0m\u001b[0;34m.\u001b[0m\u001b[0m_parent_ident\u001b[0m\u001b[0;34m,\u001b[0m\u001b[0;34m\u001b[0m\u001b[0;34m\u001b[0m\u001b[0m\n\u001b[1;32m    862\u001b[0m             \u001b[0mself\u001b[0m\u001b[0;34m.\u001b[0m\u001b[0m_parent_header\u001b[0m\u001b[0;34m,\u001b[0m\u001b[0;34m\u001b[0m\u001b[0;34m\u001b[0m\u001b[0m\n\u001b[0;32m--> 863\u001b[0;31m             \u001b[0mpassword\u001b[0m\u001b[0;34m=\u001b[0m\u001b[0;32mFalse\u001b[0m\u001b[0;34m,\u001b[0m\u001b[0;34m\u001b[0m\u001b[0;34m\u001b[0m\u001b[0m\n\u001b[0m\u001b[1;32m    864\u001b[0m         )\n\u001b[1;32m    865\u001b[0m \u001b[0;34m\u001b[0m\u001b[0m\n",
            "\u001b[0;32m/usr/local/lib/python3.7/dist-packages/ipykernel/kernelbase.py\u001b[0m in \u001b[0;36m_input_request\u001b[0;34m(self, prompt, ident, parent, password)\u001b[0m\n\u001b[1;32m    902\u001b[0m             \u001b[0;32mexcept\u001b[0m \u001b[0mKeyboardInterrupt\u001b[0m\u001b[0;34m:\u001b[0m\u001b[0;34m\u001b[0m\u001b[0;34m\u001b[0m\u001b[0m\n\u001b[1;32m    903\u001b[0m                 \u001b[0;31m# re-raise KeyboardInterrupt, to truncate traceback\u001b[0m\u001b[0;34m\u001b[0m\u001b[0;34m\u001b[0m\u001b[0;34m\u001b[0m\u001b[0m\n\u001b[0;32m--> 904\u001b[0;31m                 \u001b[0;32mraise\u001b[0m \u001b[0mKeyboardInterrupt\u001b[0m\u001b[0;34m(\u001b[0m\u001b[0;34m\"Interrupted by user\"\u001b[0m\u001b[0;34m)\u001b[0m \u001b[0;32mfrom\u001b[0m \u001b[0;32mNone\u001b[0m\u001b[0;34m\u001b[0m\u001b[0;34m\u001b[0m\u001b[0m\n\u001b[0m\u001b[1;32m    905\u001b[0m             \u001b[0;32mexcept\u001b[0m \u001b[0mException\u001b[0m \u001b[0;32mas\u001b[0m \u001b[0me\u001b[0m\u001b[0;34m:\u001b[0m\u001b[0;34m\u001b[0m\u001b[0;34m\u001b[0m\u001b[0m\n\u001b[1;32m    906\u001b[0m                 \u001b[0mself\u001b[0m\u001b[0;34m.\u001b[0m\u001b[0mlog\u001b[0m\u001b[0;34m.\u001b[0m\u001b[0mwarning\u001b[0m\u001b[0;34m(\u001b[0m\u001b[0;34m\"Invalid Message:\"\u001b[0m\u001b[0;34m,\u001b[0m \u001b[0mexc_info\u001b[0m\u001b[0;34m=\u001b[0m\u001b[0;32mTrue\u001b[0m\u001b[0;34m)\u001b[0m\u001b[0;34m\u001b[0m\u001b[0;34m\u001b[0m\u001b[0m\n",
            "\u001b[0;31mKeyboardInterrupt\u001b[0m: Interrupted by user"
          ]
        }
      ]
    }
  ]
}