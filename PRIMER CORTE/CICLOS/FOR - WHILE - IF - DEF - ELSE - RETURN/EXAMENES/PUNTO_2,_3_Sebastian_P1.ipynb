{
  "nbformat": 4,
  "nbformat_minor": 0,
  "metadata": {
    "colab": {
      "provenance": []
    },
    "kernelspec": {
      "name": "python3",
      "display_name": "Python 3"
    },
    "language_info": {
      "name": "python"
    }
  },
  "cells": [
    {
      "cell_type": "code",
      "execution_count": null,
      "metadata": {
        "id": "elo8s8ZkfoJI",
        "colab": {
          "base_uri": "https://localhost:8080/"
        },
        "outputId": "9cb607ec-8c0f-4ac7-8e94-6219eb750998"
      },
      "outputs": [
        {
          "output_type": "stream",
          "name": "stdout",
          "text": [
            "3628800\n"
          ]
        }
      ],
      "source": [
        "# Definicion Factorial (n)\n",
        "def factorial(n):\n",
        "  vlr_factorial = 1\n",
        "  contador = 0 \n",
        "  while contador<n:\n",
        "    vlr_factorial = vlr_factorial *(contador+1) \n",
        "    contador = contador+1\n",
        "  return vlr_factorial\n",
        "\n",
        "prueba = factorial(10)\n",
        "print(prueba)"
      ]
    },
    {
      "cell_type": "code",
      "source": [
        "m=int(input(\"ingrese el primer numero \"))\n",
        "n=int(input(\"ingrese el segundo numero \"))\n",
        "resta = m-n\n",
        "\n",
        "m=factorial(m)\n",
        "n=factorial(n)\n",
        "resta=factorial(resta)\n",
        "\n",
        "resultado = m/(n*resta)\n",
        "print(resultado)"
      ],
      "metadata": {
        "colab": {
          "base_uri": "https://localhost:8080/"
        },
        "id": "v8cdUGAniy6a",
        "outputId": "59fb4b02-b2a3-4a04-bc3a-f55bdea93bdd"
      },
      "execution_count": null,
      "outputs": [
        {
          "output_type": "stream",
          "name": "stdout",
          "text": [
            "ingrese el primer numero 6\n",
            "ingrese el segundo numero 8\n",
            "0.017857142857142856\n"
          ]
        }
      ]
    },
    {
      "cell_type": "code",
      "source": [
        "# Los numeros 5,3 y 100 \n",
        "\n",
        "n=int(input(\"ingrese los numeros 5,3,100 \"))\n",
        "\n",
        "if n == 5:\n",
        "  contador = 0\n",
        "  for i in range(n):\n",
        "    m= i+1\n",
        "    n= m+1\n",
        "    contador = contador +(m*n)\n",
        "  print(contador)\n",
        "\n",
        "elif n == 3:\n",
        "  contador = 0\n",
        "  for i in range(n):\n",
        "     contador = contador +(pow(2,i))\n",
        "  print(contador)\n",
        "\n",
        "elif n == 100:\n",
        "  contador = 0\n",
        "  for i in range(n):\n",
        "     r= i+1\n",
        "     contador = contador +(4*r)\n",
        "  print(contador)\n",
        "\n",
        "else:\n",
        "  print(\"No es valido\")\n",
        "\n",
        "\n"
      ],
      "metadata": {
        "colab": {
          "base_uri": "https://localhost:8080/"
        },
        "id": "Vn9kKfZBkzrJ",
        "outputId": "e76e58ab-5e57-41ce-fed2-32df5ae90bd3"
      },
      "execution_count": null,
      "outputs": [
        {
          "output_type": "stream",
          "name": "stdout",
          "text": [
            "ingrese los numeros 5,3,100 100\n",
            "20200\n"
          ]
        }
      ]
    }
  ]
}