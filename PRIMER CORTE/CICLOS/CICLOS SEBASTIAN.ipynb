{
  "nbformat": 4,
  "nbformat_minor": 0,
  "metadata": {
    "colab": {
      "provenance": []
    },
    "kernelspec": {
      "name": "python3",
      "display_name": "Python 3"
    },
    "language_info": {
      "name": "python"
    }
  },
  "cells": [
    {
      "cell_type": "code",
      "source": [
        "# Ciclo para 5\n",
        "for x in range(100):\n",
        "  print(x)"
      ],
      "metadata": {
        "colab": {
          "base_uri": "https://localhost:8080/"
        },
        "id": "fT28ZjSVg0Ra",
        "outputId": "d56d45a6-b214-4b41-ae72-faffa5a02057"
      },
      "execution_count": null,
      "outputs": [
        {
          "output_type": "stream",
          "name": "stdout",
          "text": [
            "0\n",
            "1\n",
            "2\n",
            "3\n",
            "4\n",
            "5\n",
            "6\n",
            "7\n",
            "8\n",
            "9\n",
            "10\n",
            "11\n",
            "12\n",
            "13\n",
            "14\n",
            "15\n",
            "16\n",
            "17\n",
            "18\n",
            "19\n",
            "20\n",
            "21\n",
            "22\n",
            "23\n",
            "24\n",
            "25\n",
            "26\n",
            "27\n",
            "28\n",
            "29\n",
            "30\n",
            "31\n",
            "32\n",
            "33\n",
            "34\n",
            "35\n",
            "36\n",
            "37\n",
            "38\n",
            "39\n",
            "40\n",
            "41\n",
            "42\n",
            "43\n",
            "44\n",
            "45\n",
            "46\n",
            "47\n",
            "48\n",
            "49\n",
            "50\n",
            "51\n",
            "52\n",
            "53\n",
            "54\n",
            "55\n",
            "56\n",
            "57\n",
            "58\n",
            "59\n",
            "60\n",
            "61\n",
            "62\n",
            "63\n",
            "64\n",
            "65\n",
            "66\n",
            "67\n",
            "68\n",
            "69\n",
            "70\n",
            "71\n",
            "72\n",
            "73\n",
            "74\n",
            "75\n",
            "76\n",
            "77\n",
            "78\n",
            "79\n",
            "80\n",
            "81\n",
            "82\n",
            "83\n",
            "84\n",
            "85\n",
            "86\n",
            "87\n",
            "88\n",
            "89\n",
            "90\n",
            "91\n",
            "92\n",
            "93\n",
            "94\n",
            "95\n",
            "96\n",
            "97\n",
            "98\n",
            "99\n"
          ]
        }
      ]
    },
    {
      "cell_type": "code",
      "execution_count": null,
      "metadata": {
        "colab": {
          "base_uri": "https://localhost:8080/"
        },
        "id": "E2tnEuE-XY23",
        "outputId": "89b35335-6f4c-4615-8382-63aa3aef34b2"
      },
      "outputs": [
        {
          "output_type": "stream",
          "name": "stdout",
          "text": [
            "10\n",
            "11\n",
            "12\n",
            "13\n",
            "14\n",
            "15\n",
            "16\n",
            "17\n",
            "18\n",
            "19\n"
          ]
        }
      ],
      "source": [
        "# Declaracion de variables\n",
        "for x in range(10,20): print(x)"
      ]
    },
    {
      "cell_type": "code",
      "source": [
        "# Ciclo para 7\n",
        "for x in range(100,200,2): print(x)"
      ],
      "metadata": {
        "colab": {
          "base_uri": "https://localhost:8080/"
        },
        "id": "d000Z9gzddB-",
        "outputId": "82aa3341-114f-4983-a1b7-2c34cc945b56"
      },
      "execution_count": null,
      "outputs": [
        {
          "output_type": "stream",
          "name": "stdout",
          "text": [
            "100\n",
            "102\n",
            "104\n",
            "106\n",
            "108\n",
            "110\n",
            "112\n",
            "114\n",
            "116\n",
            "118\n",
            "120\n",
            "122\n",
            "124\n",
            "126\n",
            "128\n",
            "130\n",
            "132\n",
            "134\n",
            "136\n",
            "138\n",
            "140\n",
            "142\n",
            "144\n",
            "146\n",
            "148\n",
            "150\n",
            "152\n",
            "154\n",
            "156\n",
            "158\n",
            "160\n",
            "162\n",
            "164\n",
            "166\n",
            "168\n",
            "170\n",
            "172\n",
            "174\n",
            "176\n",
            "178\n",
            "180\n",
            "182\n",
            "184\n",
            "186\n",
            "188\n",
            "190\n",
            "192\n",
            "194\n",
            "196\n",
            "198\n"
          ]
        }
      ]
    },
    {
      "cell_type": "code",
      "source": [
        "# Ciclo para 8\n",
        "inicio = int(input(\"inicio :\"))\n",
        "fin = int(input(\"fin :\"))\n",
        "incremento = int(input(\"incremento :\"))\n",
        "for x in range(inicio, fin, incremento):\n",
        "   print(x)"
      ],
      "metadata": {
        "colab": {
          "base_uri": "https://localhost:8080/"
        },
        "id": "cV_bI_Dheyir",
        "outputId": "2b7b03f5-b96a-454e-b8bf-13ae4613a25f"
      },
      "execution_count": null,
      "outputs": [
        {
          "output_type": "stream",
          "name": "stdout",
          "text": [
            "inicio :100\n",
            "fin :300\n",
            "incremento :4\n",
            "100\n",
            "104\n",
            "108\n",
            "112\n",
            "116\n",
            "120\n",
            "124\n",
            "128\n",
            "132\n",
            "136\n",
            "140\n",
            "144\n",
            "148\n",
            "152\n",
            "156\n",
            "160\n",
            "164\n",
            "168\n",
            "172\n",
            "176\n",
            "180\n",
            "184\n",
            "188\n",
            "192\n",
            "196\n",
            "200\n",
            "204\n",
            "208\n",
            "212\n",
            "216\n",
            "220\n",
            "224\n",
            "228\n",
            "232\n",
            "236\n",
            "240\n",
            "244\n",
            "248\n",
            "252\n",
            "256\n",
            "260\n",
            "264\n",
            "268\n",
            "272\n",
            "276\n",
            "280\n",
            "284\n",
            "288\n",
            "292\n",
            "296\n"
          ]
        }
      ]
    },
    {
      "cell_type": "code",
      "source": [
        "# Tabla de multiplicar de un numero\n",
        "mult=0\n",
        "tabla = int(input(\"que tabla desea : \"))\n",
        "for x in range(10):\n",
        " mult = tabla * x\n",
        " print(\"la respuesta es : \", mult)"
      ],
      "metadata": {
        "colab": {
          "base_uri": "https://localhost:8080/"
        },
        "id": "RijNrQs-iWtT",
        "outputId": "7aa667ef-c866-42ed-d9cc-35cb99a0094b"
      },
      "execution_count": null,
      "outputs": [
        {
          "output_type": "stream",
          "name": "stdout",
          "text": [
            "que tabla desea : 7\n",
            "la respuesta es :  0\n",
            "la respuesta es :  7\n",
            "la respuesta es :  14\n",
            "la respuesta es :  21\n",
            "la respuesta es :  28\n",
            "la respuesta es :  35\n",
            "la respuesta es :  42\n",
            "la respuesta es :  49\n",
            "la respuesta es :  56\n",
            "la respuesta es :  63\n"
          ]
        }
      ]
    },
    {
      "cell_type": "code",
      "source": [
        "# Tabla de multiplicar de un numero\n",
        "mult=0\n",
        "tabla = int(input(\"que tabla desea : \"))\n",
        "for x in range(1,11):\n",
        " mult = tabla * x\n",
        " print(str(tabla)+\" x \"+str(x)+\" = \"+str(mult))"
      ],
      "metadata": {
        "colab": {
          "base_uri": "https://localhost:8080/"
        },
        "id": "piLD87N-k93j",
        "outputId": "0a100ad4-836d-44ab-ee99-c8712604a0c1"
      },
      "execution_count": null,
      "outputs": [
        {
          "output_type": "stream",
          "name": "stdout",
          "text": [
            "que tabla desea : 9\n",
            "9 x 1 = 9\n",
            "9 x 2 = 18\n",
            "9 x 3 = 27\n",
            "9 x 4 = 36\n",
            "9 x 5 = 45\n",
            "9 x 6 = 54\n",
            "9 x 7 = 63\n",
            "9 x 8 = 72\n",
            "9 x 9 = 81\n",
            "9 x 10 = 90\n"
          ]
        }
      ]
    },
    {
      "cell_type": "code",
      "source": [
        "# Tabla de multiplicar de un numero\n",
        "mult=0\n",
        "tabla = int(input(\"que tabla desea : \"))\n",
        "for x in range(1,11) :\n",
        " mult = tabla * x\n",
        " print(str(tabla)+\" x \"+str(x)+\" = \"+str(mult))"
      ],
      "metadata": {
        "colab": {
          "base_uri": "https://localhost:8080/"
        },
        "id": "6GZndFlv9fWO",
        "outputId": "85303b08-7eb1-44c6-83d9-77434c504ce5"
      },
      "execution_count": null,
      "outputs": [
        {
          "output_type": "stream",
          "name": "stdout",
          "text": [
            "que tabla desea : 6\n",
            "6 x 1 = 6\n",
            "6 x 2 = 12\n",
            "6 x 3 = 18\n",
            "6 x 4 = 24\n",
            "6 x 5 = 30\n",
            "6 x 6 = 36\n",
            "6 x 7 = 42\n",
            "6 x 8 = 48\n",
            "6 x 9 = 54\n",
            "6 x 10 = 60\n"
          ]
        }
      ]
    },
    {
      "cell_type": "code",
      "source": [
        "# Tabla de multiplicar de un numero\n",
        "mult = 0\n",
        "tabla = int(input(\"que tabla desea \"))\n",
        "x=1\n",
        "while x<= 11:\n",
        "  mult = tabla * x\n",
        "  \n"
      ],
      "metadata": {
        "id": "4gaL4aw_EpNN"
      },
      "execution_count": null,
      "outputs": []
    }
  ]
}