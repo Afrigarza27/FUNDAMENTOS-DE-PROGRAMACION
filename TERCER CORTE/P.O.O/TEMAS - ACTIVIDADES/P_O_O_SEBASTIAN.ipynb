{
  "nbformat": 4,
  "nbformat_minor": 0,
  "metadata": {
    "colab": {
      "provenance": []
    },
    "kernelspec": {
      "name": "python3",
      "display_name": "Python 3"
    },
    "language_info": {
      "name": "python"
    }
  },
  "cells": [
    {
      "cell_type": "code",
      "execution_count": null,
      "metadata": {
        "id": "GoGUGt6WtvOP"
      },
      "outputs": [],
      "source": []
    },
    {
      "cell_type": "markdown",
      "source": [
        "P.O.O - OBJETOS"
      ],
      "metadata": {
        "id": "RoMQVItJvHgB"
      }
    },
    {
      "cell_type": "code",
      "source": [
        "class Coche():\n",
        "# Atributos\n",
        "  ruedas = 4\n",
        "  combustible = \"Gasolina\"\n",
        "  cilindraje = 1000\n",
        "  puerta = 3\n",
        "\n",
        "\n",
        "# Metodo\n",
        "  def desplazamiento(self):\n",
        "    print(\"El coche se esta desplazando sobre 4 ruedas\")\n",
        "\n",
        "# Programa principal\n",
        "miVehiculo=Coche() #Instancia de la clase, # Instanciar un objeto\n",
        "obj_miCarrito = Coche()\n",
        "# Acceso al atributo\n",
        "print(\"Mi coche tiene \", miVehiculo.ruedas, \"ruedas\")\n",
        "print(\"Mi coche tiene \", miVehiculo.combustible, \"de combustible\")\n",
        "print(\"Mi coche tiene \", miVehiculo.cilindraje, \"de cilindraje\")\n",
        "print(\"Mi coche tiene \", miVehiculo.puerta, \"puerta\")\n",
        "# Forma de un objeto solicita que se ejecute un metodo\n",
        "miVehiculo.desplazamiento()\n",
        "obj_miCarrito.desplazamiento()"
      ],
      "metadata": {
        "colab": {
          "base_uri": "https://localhost:8080/"
        },
        "id": "0hMhKK4Jvjxy",
        "outputId": "3c27196d-cfe6-4d03-94cd-8dec68c5ff57"
      },
      "execution_count": null,
      "outputs": [
        {
          "output_type": "stream",
          "name": "stdout",
          "text": [
            "Mi coche tiene  4 ruedas\n",
            "Mi coche tiene  Gasolina de combustible\n",
            "Mi coche tiene  1000 de cilindraje\n",
            "Mi coche tiene  3 puerta\n",
            "El coche se esta desplazando sobre 4 ruedas\n",
            "El coche se esta desplazando sobre 4 ruedas\n"
          ]
        }
      ]
    },
    {
      "cell_type": "code",
      "source": [
        "class Coche():\n",
        "  ruedas = 4 \n",
        "  def desplazamiento(self):\n",
        "    print(\"El coche se está desplazando sobre 4 ruedas\")\n",
        "class Moto():\n",
        "  ruedas = 2\n",
        "  def desplazamiento(self):\n",
        "    print(\"La moto se está desplazando sobre 2 ruedas\")\n",
        "miCarro=Coche()\n",
        "print(\"Mi coche tiene \", miVehiculo.ruedas, \"ruedas\")\n",
        "miCarro.desplazamiento()\n",
        "print(\"----segundo objeto----\")\n",
        "miMoto=Moto()\n",
        "print(\"Mi moto tiene\", miMoto.ruedas, \"ruedas\")\n",
        "miMoto.desplazamiento()"
      ],
      "metadata": {
        "colab": {
          "base_uri": "https://localhost:8080/"
        },
        "id": "C8y_QdRs0xnl",
        "outputId": "41e25523-9ab1-42d7-92f7-6303fc32b2a1"
      },
      "execution_count": null,
      "outputs": [
        {
          "output_type": "stream",
          "name": "stdout",
          "text": [
            "Mi coche tiene  4 ruedas\n",
            "El coche se está desplazando sobre 4 ruedas\n",
            "----segundo objeto----\n",
            "Mi moto tiene 2 ruedas\n",
            "La moto se está desplazando sobre 2 ruedas\n"
          ]
        }
      ]
    },
    {
      "cell_type": "code",
      "source": [
        "# Constructor\n",
        "class Cachorro(): \n",
        "  # Metodo constructor\n",
        "  def __init__(self, p_color, p_raza):\n",
        "    self.color = p_color\n",
        "    self.raza = p_raza\n",
        "\n",
        "\n",
        "perrito = Cachorro(\"Marron claro\", \"Golden retriver\")\n",
        "obj_perritodeVicky = Cachorro(\"Blanco\", \"Shitzu\")\n",
        "obj_perritodelBrayan = Cachorro(\"Negro\", \"Sin identificar\")\n",
        "\n",
        "print(\"Este es un cachorro de sin Dueño y la raza {} y es de color {}\".format(perrito.raza, perrito.color))\n",
        "print(\"Este es un cachorro de Vickyy la raza {} y es de color {}\".format(obj_perritodeVicky, obj_perritodelBrayan ))\n",
        "print(\"Este es un cachorro del Brayan y la raza {} y es de color {}\".format(obj_perritodelBrayan , obj_perritodelBrayan ))"
      ],
      "metadata": {
        "colab": {
          "base_uri": "https://localhost:8080/"
        },
        "id": "EVeXzrsW3qhu",
        "outputId": "e89d2197-0ea9-4fad-f0f5-a983b5d15dd1"
      },
      "execution_count": null,
      "outputs": [
        {
          "output_type": "stream",
          "name": "stdout",
          "text": [
            "Este es un cachorro de sin Dueño y la raza Golden retriver y es de color Marron claro\n",
            "Este es un cachorro de Vickyy la raza <__main__.Cachorro object at 0x7fd335cd06d0> y es de color <__main__.Cachorro object at 0x7fd33524f410>\n",
            "Este es un cachorro del Brayan y la raza <__main__.Cachorro object at 0x7fd33524f410> y es de color <__main__.Cachorro object at 0x7fd33524f410>\n"
          ]
        }
      ]
    },
    {
      "cell_type": "code",
      "source": [
        "class Cachorro():\n",
        "  # Metodo constructor\n",
        "  def __init__(self, p_color, p_raza, p_nombre):\n",
        "   self.color = p_color\n",
        "   self.raza = p_raza\n",
        "   self.nombre = p_nombre\n",
        "\n",
        "# Metodo principal\n",
        "p_color = input(\"color : \")\n",
        "p_raza = input(\"raza : \")\n",
        "p_nombre = input(\"nombre : \")\n",
        "\n",
        "perrito = Cachorro(p_color,p_raza,p_nombre)\n",
        "print(\"Este es un cachorro sin dueño y la raza es {} y es de color {} y se llama {} \".format(perrito.raza, perrito.color, perrito.nombre))\n",
        " \n"
      ],
      "metadata": {
        "id": "cfzrGLVO8htZ",
        "colab": {
          "base_uri": "https://localhost:8080/"
        },
        "outputId": "8a0b9d2a-82f6-44d8-de4f-05263e6bd1af"
      },
      "execution_count": null,
      "outputs": [
        {
          "output_type": "stream",
          "name": "stdout",
          "text": [
            "color : DORADO\n",
            "raza : COKER\n",
            "nombre : LINDA\n",
            "Este es un cachorro sin dueño y la raza es COKER y es de color DORADO y se llama LINDA \n"
          ]
        }
      ]
    },
    {
      "cell_type": "code",
      "source": [
        "class C_Rectangulo:\n",
        "  def __init__(self, p_ancho, p_alto):\n",
        "    self.at_ancho = p_ancho\n",
        "    self.at_alto = p_alto\n",
        "\n",
        "  def m_area(self):\n",
        "    area = self.at_alto*self.at_ancho\n",
        "    return area\n",
        "\n",
        "\n",
        "  def m_perimetro(self):\n",
        "    perimetro = (self.at_alto*2)+(self.at_ancho*2)\n",
        "    return perimetro \n",
        "  \n",
        "  def m_hipo(self):\n",
        "    hipo = str(self.at_alto+self.at_ancho)\n",
        "    return hipo\n",
        "\n",
        "\n",
        "rl = C_Rectangulo(4,2)\n",
        "area=rl.m_area()\n",
        "perimetro=rl.m_perimetro()\n",
        "print(\"El area es:\", area)\n",
        "print(\"El perimetro es:\", perimetro)\n",
        "\n",
        "\n",
        "p_ancho = int(input(\"Ancho: \"))\n",
        "p_alto = int(input(\"Alto: \"))\n",
        "\n",
        "obj_rect2= C_Rectangulo(p_ancho,p_alto)\n",
        "  \n",
        "\n",
        "print(\"El area es:\",obj_rect2.m_area())\n",
        "print(\"El perimetro es: \", obj_rect2.m_perimetro())"
      ],
      "metadata": {
        "colab": {
          "base_uri": "https://localhost:8080/"
        },
        "id": "uW3hstYIslb0",
        "outputId": "72e57513-42f5-40a8-f712-95c1f5ac5ed2"
      },
      "execution_count": null,
      "outputs": [
        {
          "output_type": "stream",
          "name": "stdout",
          "text": [
            "El area es: 8\n",
            "El perimetro es: 12\n",
            "Ancho: 3\n",
            "Alto: 1\n",
            "El area es: 3\n",
            "El perimetro es:  8\n"
          ]
        }
      ]
    },
    {
      "cell_type": "code",
      "source": [
        "class C_Rectangulo:\n",
        "  def __init__(self, p_ancho, p_alto):\n",
        "    self.at_ancho = p_ancho\n",
        "    self.at_alto = p_alto\n",
        "\n",
        "  def m_hipo(self):\n",
        "    hipo = str(self.at_alto+self.at_ancho)\n",
        "    return hipo\n",
        "\n",
        "rl = C_Rectangulo(4,2)\n",
        "hipo=rl.m_hipo()\n",
        "print(\"La hipotenusa es :\", hipo)\n",
        "\n",
        "p_ancho = int(input(\"Ancho: \"))\n",
        "p_alto = int(input(\"Alto: \"))\n",
        "\n",
        "obj_rect2= C_Rectangulo(p_ancho,p_alto)\n",
        "\n",
        "\n",
        "print(\"La hipotenusa : \", obj_rect2.m_hipo())"
      ],
      "metadata": {
        "colab": {
          "base_uri": "https://localhost:8080/"
        },
        "id": "zUhCCs1Gwh8D",
        "outputId": "4e980e2e-d38c-4229-fe23-42ba0d42a147"
      },
      "execution_count": null,
      "outputs": [
        {
          "output_type": "stream",
          "name": "stdout",
          "text": [
            "La hipotenusa es : 6\n",
            "Ancho: 7\n",
            "Alto: 9\n",
            "La hipotenusa :  16\n"
          ]
        }
      ]
    }
  ]
}